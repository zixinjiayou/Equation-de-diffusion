{
 "cells": [
  {
   "cell_type": "markdown",
   "metadata": {},
   "source": [
    "# MU4MEF04 –Méthodes Numériques pour les écoulements incompressibles- S1\n"
   ]
  },
  {
   "cell_type": "markdown",
   "metadata": {},
   "source": [
    "## TP3 Polynômes de Chebyshev - Formulation τ - formulation de collocation\n",
    "### Master SPI – MSH\n",
    "#### ZHOU Zixin 28609845"
   ]
  },
  {
   "cell_type": "code",
   "execution_count": 1,
   "metadata": {},
   "outputs": [],
   "source": [
    "import numpy as np\n",
    "from numpy.linalg import norm\n",
    "import matplotlib.pyplot as plt\n",
    "import scipy.sparse as sps\n",
    "import math"
   ]
  },
  {
   "cell_type": "markdown",
   "metadata": {},
   "source": [
    "On va résoudre l'équation de la chaleur stationnaire en 1 dimension sur [-1,1]\n",
    "$$\n",
    "\\Delta u=0\n",
    "$$\n",
    "avec la condition de Dirichlet $u(-1)=0, u(1)=1$.\n"
   ]
  },
  {
   "cell_type": "markdown",
   "metadata": {},
   "source": [
    "#### 1. donner la solution analytique de cette équation"
   ]
  },
  {
   "cell_type": "markdown",
   "metadata": {},
   "source": [
    "Cette équation de la chaleur stationnaire est en 1 dimension:\n",
    "\n",
    "$$\n",
    "u=ax+b\n",
    "$$\n",
    "\n",
    "On sait aussi que $u(-1)=0, u(1)=1$, donc\n",
    "\n",
    "$$\n",
    "u=\\frac{x}{2} +  \\frac{1}{2}\n",
    "$$"
   ]
  },
  {
   "cell_type": "code",
   "execution_count": 2,
   "metadata": {},
   "outputs": [
    {
     "data": {
      "image/png": "[encoded data removed]",
      "text/plain": [
       "<Figure size 432x288 with 1 Axes>"
      ]
     },
     "metadata": {
      "needs_background": "light"
     },
     "output_type": "display_data"
    }
   ],
   "source": [
    "N = 51\n",
    "x = np.linspace(-1, 1, N)  \n",
    "u = 0.5 * x + 0.5\n",
    "\n",
    "plt.figure()\n",
    "plt.xlabel(\"x\")\n",
    "plt.ylabel(\"u\")\n",
    "plt.title(\"La solution analytique de cette equation\")\n",
    "plt.grid()\n",
    "plt.plot(x,u)\n",
    "plt.legend() \n",
    "plt.show()"
   ]
  },
  {
   "cell_type": "markdown",
   "metadata": {},
   "source": [
    "On considère une discrétisation de Chebyshev sur 51 points.\n",
    "#### 2. écrire les matrices de passage de l'espace spectral vers l'espace physique et réciproquement"
   ]
  },
  {
   "cell_type": "code",
   "execution_count": 3,
   "metadata": {},
   "outputs": [
    {
     "name": "stdout",
     "output_type": "stream",
     "text": [
      "Le matrices de passage de l'espace spectral vers l'espace physique\n",
      "[[ 1.          1.          1.         ...  1.          1.\n",
      "   1.        ]\n",
      " [ 1.          0.99810333  0.99242051 ... -0.9829731  -0.99242051\n",
      "  -0.99810333]\n",
      " [ 1.          0.99242051  0.96979694 ...  0.93247223  0.96979694\n",
      "   0.99242051]\n",
      " ...\n",
      " [ 1.         -0.9829731   0.93247223 ... -0.85021714  0.93247223\n",
      "  -0.9829731 ]\n",
      " [ 1.         -0.99242051  0.96979694 ...  0.93247223 -0.96979694\n",
      "   0.99242051]\n",
      " [ 1.         -0.99810333  0.99242051 ... -0.9829731   0.99242051\n",
      "  -0.99810333]]\n",
      "Le matrices de passage de l'espace physique vers l'espace spectral\n",
      "[[ 0.00980392  0.01960784  0.01960784 ...  0.01960784  0.01960784\n",
      "   0.00980392]\n",
      " [ 0.01960784  0.03914131  0.03891845 ... -0.03854796 -0.03891845\n",
      "  -0.01957065]\n",
      " [ 0.01960784  0.03891845  0.03803125 ...  0.03656754  0.03803125\n",
      "   0.01945923]\n",
      " ...\n",
      " [ 0.01960784 -0.03854796  0.03656754 ... -0.03334185  0.03656754\n",
      "  -0.01927398]\n",
      " [ 0.01960784 -0.03891845  0.03803125 ...  0.03656754 -0.03803125\n",
      "   0.01945923]\n",
      " [ 0.00980392 -0.01957065  0.01945923 ... -0.01927398  0.01945923\n",
      "  -0.00978533]]\n"
     ]
    }
   ],
   "source": [
    "#Le matrices de passage de l'espace spectral vers l'espace physique\n",
    "def M_phsp(N):\n",
    "    M       = np.eye(N)\n",
    "    for n in range(0,N):\n",
    "        for j in range(0,N):\n",
    "            M[j,n] = math.cos(n * j * math.pi / N)\n",
    "    return M\n",
    "\n",
    "#Le matrices de passage de l'espace physique vers l'espace spectral\n",
    "def M_spph(N):\n",
    "    M       = np.eye(N)\n",
    "    cjp     = np.ones(N)\n",
    "    cjp[0]  = 2.\n",
    "    cjp[-1] = 2.\n",
    "    cnp     = np.ones(N)\n",
    "    cnp[0]  = 2.\n",
    "    cnp[-1] = 2.\n",
    "    for n in range(0,N):\n",
    "        for j in range(0,N):\n",
    "            M[n,j] = (2. / (cnp[n] * cjp[j] * N)) * math.cos(n * j * math.pi / N)\n",
    "    return M\n",
    "\n",
    "print \"Le matrices de passage de l'espace spectral vers l'espace physique\"\n",
    "print M_phsp(N)\n",
    "\n",
    "print \"Le matrices de passage de l'espace physique vers l'espace spectral\"\n",
    "print M_spph(N)"
   ]
  },
  {
   "cell_type": "markdown",
   "metadata": {},
   "source": [
    "#### 3. écrire la matrice de dérivation dans l'espace spectral"
   ]
  },
  {
   "cell_type": "code",
   "execution_count": 4,
   "metadata": {},
   "outputs": [
    {
     "name": "stdout",
     "output_type": "stream",
     "text": [
      "La matrice de derivation dans l'espace spectral\n",
      "[[  0.   1.   0. ...   0.  49.   0.]\n",
      " [  0.   0.   4. ...  96.   0. 100.]\n",
      " [  0.   0.   0. ...   0.  98.   0.]\n",
      " ...\n",
      " [  0.   0.   0. ...   0.  98.   0.]\n",
      " [  0.   0.   0. ...   0.   0. 100.]\n",
      " [  0.   0.   0. ...   0.   0.   0.]]\n"
     ]
    }
   ],
   "source": [
    "#La matrice de derivation dans l'espace spectral\n",
    "def D_sp(N):\n",
    "    D     = np.zeros((N,N))\n",
    "    cn    = np.ones(N)\n",
    "    cn[0] = 2.\n",
    "    for i in range(0,N):\n",
    "        for j in range(1,N):\n",
    "            if j > i:\n",
    "                if D[i,j-1] == 0:\n",
    "                    D[i,j] = 2 * j / cn[i]\n",
    "    return D\n",
    "\n",
    "print \"La matrice de derivation dans l'espace spectral\"\n",
    "print D_sp(N)"
   ]
  },
  {
   "cell_type": "markdown",
   "metadata": {},
   "source": [
    "#### 4. résoudre l'équation avec la méthode $\\tau$ :\n",
    " - former second membre (les deux dernières lignes contiennent les conditions aux limites)\n",
    " - former opérateur et inverser"
   ]
  },
  {
   "cell_type": "code",
   "execution_count": 5,
   "metadata": {},
   "outputs": [
    {
     "name": "stdout",
     "output_type": "stream",
     "text": [
      "La methode tau\n",
      "[[ 0.0000e+00  0.0000e+00  4.0000e+00 ...  5.5296e+04  0.0000e+00\n",
      "   6.2500e+04]\n",
      " [ 0.0000e+00  0.0000e+00  0.0000e+00 ...  0.0000e+00  1.1760e+05\n",
      "   0.0000e+00]\n",
      " [ 0.0000e+00  0.0000e+00  0.0000e+00 ...  1.1040e+05  0.0000e+00\n",
      "   1.2480e+05]\n",
      " ...\n",
      " [ 0.0000e+00  0.0000e+00  0.0000e+00 ...  0.0000e+00  0.0000e+00\n",
      "   9.8000e+03]\n",
      " [ 1.0000e+00 -1.0000e+00  1.0000e+00 ...  1.0000e+00 -1.0000e+00\n",
      "   1.0000e+00]\n",
      " [ 1.0000e+00  1.0000e+00  1.0000e+00 ...  1.0000e+00  1.0000e+00\n",
      "   1.0000e+00]]\n",
      "Matrice inverser\n",
      "[[-2.50000000e-01  0.00000000e+00  1.45833333e-01 ... -5.66369008e-07\n",
      "   5.00000000e-01  5.00000000e-01]\n",
      " [ 0.00000000e+00 -4.16666667e-02  0.00000000e+00 ...  0.00000000e+00\n",
      "  -5.00000000e-01  5.00000000e-01]\n",
      " [ 2.50000000e-01  0.00000000e+00 -1.66666667e-01 ...  1.79164409e-17\n",
      "   0.00000000e+00  0.00000000e+00]\n",
      " ...\n",
      " [ 0.00000000e+00  0.00000000e+00  0.00000000e+00 ... -2.17108120e-04\n",
      "   0.00000000e+00  0.00000000e+00]\n",
      " [ 0.00000000e+00  0.00000000e+00  0.00000000e+00 ...  0.00000000e+00\n",
      "   0.00000000e+00  0.00000000e+00]\n",
      " [ 0.00000000e+00  0.00000000e+00  0.00000000e+00 ...  1.02040816e-04\n",
      "   0.00000000e+00  0.00000000e+00]]\n"
     ]
    }
   ],
   "source": [
    "#Opérateur de la méthode tau\n",
    "def M_tau(N):\n",
    "    M           = np.dot(D_sp(N),D_sp(N))\n",
    "    M[-1,:]     = 1.\n",
    "    for i in range(0,N):\n",
    "        M[-2,i] = ( - 1) ** i\n",
    "    return M\n",
    "\n",
    "print 'La methode tau'\n",
    "print M_tau(N)\n",
    "\n",
    "#Inverser\n",
    "print 'Matrice inverser'\n",
    "print np.linalg.inv(M_tau(N))"
   ]
  },
  {
   "cell_type": "code",
   "execution_count": 6,
   "metadata": {},
   "outputs": [
    {
     "data": {
      "image/png": "[encoded data removed]",
      "text/plain": [
       "<Figure size 432x288 with 1 Axes>"
      ]
     },
     "metadata": {
      "needs_background": "light"
     },
     "output_type": "display_data"
    }
   ],
   "source": [
    "#Secoud membre\n",
    "s     = np.zeros(N)\n",
    "s[-1] = 1\n",
    "\n",
    "#Le u calcul\n",
    "u_cal = np.linalg.solve(M_tau(N), s)\n",
    "u_cal = np.dot(M_phsp(N),u_cal)\n",
    "\n",
    "#Les points de Gauss-Lobatto \n",
    "k  = np.linspace(0, N-1, N)\n",
    "xk = (np.cos(k * np.pi / N))\n",
    "\n",
    "plt.figure()\n",
    "plt.xlabel(\"x\")\n",
    "plt.ylabel(\"u\")\n",
    "plt.title(\"La solution de la methode tau\")\n",
    "plt.grid()\n",
    "plt.plot(xk,u_cal,'.',label = \"u calcul\")\n",
    "plt.plot(x,u,label = \"u exacte\")\n",
    "plt.legend() \n",
    "plt.show()"
   ]
  },
  {
   "cell_type": "markdown",
   "metadata": {},
   "source": [
    "#### 5. écrire la matrice de dérivation dans l'espace physique"
   ]
  },
  {
   "cell_type": "code",
   "execution_count": 7,
   "metadata": {},
   "outputs": [
    {
     "name": "stdout",
     "output_type": "stream",
     "text": [
      "La matrice de derivation dans l'espace physique\n",
      "[[ 4.08496667e+05 -6.31936235e+05  3.03287304e+05 ... -2.31372373e+03\n",
      "   1.93623913e+03 -8.54568176e+02]\n",
      " [ 1.95239159e+05 -2.71713821e+05  8.17490149e+04 ... -3.79659808e+02\n",
      "   2.55887618e+02 -9.07165452e+01]\n",
      " [-9.74020227e+03  4.37093686e+04 -5.51361406e+04 ...  1.13480901e+02\n",
      "  -8.26015571e+01  3.20131073e+01]\n",
      " ...\n",
      " [ 1.98209592e+01 -4.23877919e+01  5.06148178e+01 ... -2.36042831e+04\n",
      "   1.63713555e+04 -1.92448640e+03]\n",
      " [-2.89132346e+01  6.40262146e+01 -8.26015571e+01 ...  2.27570885e+04\n",
      "  -5.51361406e+04  2.18546843e+04]\n",
      " [ 7.82915056e+01 -1.81433090e+02  2.55887618e+02 ...  2.58253831e+02\n",
      "   8.17490149e+04 -1.35856910e+05]]\n"
     ]
    }
   ],
   "source": [
    "#La matrice de dérivation double dans l'espace physique\n",
    "def Dd_pp(N):\n",
    "    A = np.dot(D_sp(N), D_sp(N))\n",
    "    B = np.dot(M_phsp(N),A)\n",
    "    D = np.dot(B,M_spph(N))\n",
    "    return D\n",
    "\n",
    "print \"La matrice de derivation dans l'espace physique\"\n",
    "print Dd_pp(N)"
   ]
  },
  {
   "cell_type": "markdown",
   "metadata": {},
   "source": [
    "#### 6. résoudre l'équation avec la formulation de collocation\n",
    " - former second membre (la première et la dernière lignes contiennent les conditions aux limites)\n",
    " - former opérateur et inverser"
   ]
  },
  {
   "cell_type": "code",
   "execution_count": 8,
   "metadata": {},
   "outputs": [
    {
     "name": "stdout",
     "output_type": "stream",
     "text": [
      "La formulation de collocation\n",
      "[[ 1.00000000e+00  0.00000000e+00  0.00000000e+00 ...  0.00000000e+00\n",
      "   0.00000000e+00  0.00000000e+00]\n",
      " [ 2.58707141e+10 -4.59068640e+10  3.24537129e+10 ... -3.45456460e+08\n",
      "   2.99473006e+08 -1.34072199e+08]\n",
      " [ 5.12646433e+09 -8.23680695e+09  4.04826526e+09 ... -1.50087804e+06\n",
      "   9.05307273e+05 -1.05448966e+06]\n",
      " ...\n",
      " [-5.99615048e+05  1.42687345e+06 -2.10894628e+06 ...  1.02880095e+09\n",
      "  -1.46958193e+09  6.69483021e+08]\n",
      " [ 2.14150469e+06 -5.21823329e+06  8.02034791e+06 ... -1.79978134e+09\n",
      "   5.21569825e+09 -4.22686516e+09]\n",
      " [ 0.00000000e+00  0.00000000e+00  0.00000000e+00 ...  0.00000000e+00\n",
      "   0.00000000e+00  1.00000000e+00]]\n",
      "Matrice inverser\n",
      "[[ 1.00000000e+00  7.07244079e-12  1.02054717e-10 ...  5.28077076e-13\n",
      "  -2.45828588e-13 -1.18568430e-09]\n",
      " [ 1.00000005e+00 -2.18359171e-03  8.62554293e-03 ... -9.79031828e-05\n",
      "  -4.77926219e-05 -4.99999932e-01]\n",
      " [ 9.96206802e-01 -5.78709001e-03  2.28599489e-02 ... -2.59785392e-04\n",
      "  -1.26876251e-04  1.89685445e-03]\n",
      " ...\n",
      " [ 7.57244053e-03 -5.81685944e-03  2.29775415e-02 ... -2.60167107e-04\n",
      "  -1.26895224e-04  4.96214038e-01]\n",
      " [ 3.79341513e-03 -2.91415871e-03  1.15114012e-02 ... -1.30338860e-04\n",
      "  -6.35691777e-05 -1.89657843e-03]\n",
      " [ 0.00000000e+00  0.00000000e+00  0.00000000e+00 ...  0.00000000e+00\n",
      "   0.00000000e+00  1.00000000e+00]]\n"
     ]
    }
   ],
   "source": [
    "#Opérateur de la formulation de collocation\n",
    "def F_collocation(N):\n",
    "    F          = np.dot(Dd_pp(N),Dd_pp(N))\n",
    "    F[0,0]     = 1.\n",
    "    F[0,1:]    = 0.\n",
    "    F[-1,0:-1] = 0.\n",
    "    F[-1,-1]   = 1.\n",
    "    return F\n",
    "\n",
    "print 'La formulation de collocation'\n",
    "print F_collocation(N)\n",
    "\n",
    "#Inverser\n",
    "print 'Matrice inverser'\n",
    "print np.linalg.inv(F_collocation(N))\n"
   ]
  },
  {
   "cell_type": "code",
   "execution_count": 9,
   "metadata": {},
   "outputs": [
    {
     "data": {
      "image/png": "[encoded data removed]",
      "text/plain": [
       "<Figure size 432x288 with 1 Axes>"
      ]
     },
     "metadata": {
      "needs_background": "light"
     },
     "output_type": "display_data"
    }
   ],
   "source": [
    "#Secoud membre\n",
    "s       = np.zeros(N)\n",
    "s[0]   = 1\n",
    "\n",
    "#Le u calcul\n",
    "u_cal = np.linalg.solve(F_collocation(N), s)\n",
    "\n",
    "#Les points de Gauss-Lobatto \n",
    "k  = np.linspace(0,N-1,N)\n",
    "xk = (np.cos(k * np.pi / N))\n",
    "\n",
    "plt.figure()\n",
    "plt.xlabel(\"x\")\n",
    "plt.ylabel(\"u\")\n",
    "plt.title(\"La solution de la formulation de collocation\")\n",
    "plt.grid()\n",
    "plt.plot(xk,u_cal,'.',label = \"u calcul\")\n",
    "plt.plot(x,u,label = \"u exacte\")\n",
    "plt.legend() \n",
    "plt.show()"
   ]
  },
  {
   "cell_type": "markdown",
   "metadata": {},
   "source": [
    "7. construire un objet (par exemple une fonction [phsp, spph, ddxphys, Dspec] = chebyderiv(n) en matlab ou un module python) qui renvoie pour une discrétisation de $\\mathrm{n}$ points les matrices de passage et les matrices de dérivation dans l'espace spectral et dans l'espace physique\n"
   ]
  },
  {
   "cell_type": "code",
   "execution_count": 10,
   "metadata": {},
   "outputs": [
    {
     "data": {
      "text/plain": [
       "(array([[ 1.        ,  1.        ,  1.        , ...,  1.        ,\n",
       "          1.        ,  1.        ],\n",
       "        [ 1.        ,  0.99810333,  0.99242051, ..., -0.9829731 ,\n",
       "         -0.99242051, -0.99810333],\n",
       "        [ 1.        ,  0.99242051,  0.96979694, ...,  0.93247223,\n",
       "          0.96979694,  0.99242051],\n",
       "        ...,\n",
       "        [ 1.        , -0.9829731 ,  0.93247223, ..., -0.85021714,\n",
       "          0.93247223, -0.9829731 ],\n",
       "        [ 1.        , -0.99242051,  0.96979694, ...,  0.93247223,\n",
       "         -0.96979694,  0.99242051],\n",
       "        [ 1.        , -0.99810333,  0.99242051, ..., -0.9829731 ,\n",
       "          0.99242051, -0.99810333]]),\n",
       " array([[ 0.00980392,  0.01960784,  0.01960784, ...,  0.01960784,\n",
       "          0.01960784,  0.00980392],\n",
       "        [ 0.01960784,  0.03914131,  0.03891845, ..., -0.03854796,\n",
       "         -0.03891845, -0.01957065],\n",
       "        [ 0.01960784,  0.03891845,  0.03803125, ...,  0.03656754,\n",
       "          0.03803125,  0.01945923],\n",
       "        ...,\n",
       "        [ 0.01960784, -0.03854796,  0.03656754, ..., -0.03334185,\n",
       "          0.03656754, -0.01927398],\n",
       "        [ 0.01960784, -0.03891845,  0.03803125, ...,  0.03656754,\n",
       "         -0.03803125,  0.01945923],\n",
       "        [ 0.00980392, -0.01957065,  0.01945923, ..., -0.01927398,\n",
       "          0.01945923, -0.00978533]]),\n",
       " array([[  0.,   1.,   0., ...,   0.,  49.,   0.],\n",
       "        [  0.,   0.,   4., ...,  96.,   0., 100.],\n",
       "        [  0.,   0.,   0., ...,   0.,  98.,   0.],\n",
       "        ...,\n",
       "        [  0.,   0.,   0., ...,   0.,  98.,   0.],\n",
       "        [  0.,   0.,   0., ...,   0.,   0., 100.],\n",
       "        [  0.,   0.,   0., ...,   0.,   0.,   0.]]),\n",
       " array([[ 424771.17647059, -333351.80779867,  170648.74134988, ...,\n",
       "          -20694.32539446,   19973.20875253,  -18238.2585082 ],\n",
       "        [ 395362.48060741, -278868.81497033,   92304.02100443, ...,\n",
       "          -12260.77583046,   10810.89371052,   -7336.42708761],\n",
       "        [ -31050.54552648,   52977.46895825,  -60910.72206017, ...,\n",
       "            4406.50189152,   -5857.1830225 ,    9332.12660062],\n",
       "        ...,\n",
       "        [  -6789.01424418,    4493.22080742,   -1018.41986126, ...,\n",
       "          -23972.01409501,   15302.32079934,     686.63579301],\n",
       "        [ -11627.96745649,    9332.12660062,   -5857.1830225 , ...,\n",
       "           27050.10952645,  -60910.72206017,   52977.46895825],\n",
       "        [   2520.37240512,   -3668.21354381,    5405.44685526, ...,\n",
       "           -5811.43109563,   46152.01050221, -139434.40748517]]))"
      ]
     },
     "execution_count": 10,
     "metadata": {},
     "output_type": "execute_result"
    }
   ],
   "source": [
    "def chebyderiv(N):\n",
    "    \n",
    "    #Le matrices de passage de l'espace spectral vers l'espace physique\n",
    "    phsp = np.eye(N)\n",
    "    for n in range(0,N):\n",
    "        for j in range(0,N):\n",
    "             phsp[j,n] = math.cos(n * j * math.pi / N)\n",
    "\n",
    "    #Le matrices de passage de l'espace physique vers l'espace spectral\n",
    "    spph    = np.eye(N)\n",
    "    cjp     = np.ones(N)\n",
    "    cjp[0]  = 2.\n",
    "    cjp[-1] = 2.\n",
    "    cnp     = np.ones(N)\n",
    "    cnp[0]  = 2.\n",
    "    cnp[-1] = 2.\n",
    "    for n in range(0,N):\n",
    "        for j in range(0,N):\n",
    "            spph [n,j] = (2. / (cnp[n] * cjp[j] * N)) * math.cos(n * j * math.pi / N)\n",
    "\n",
    "    #La matrice de derivation dans l'espace spectral\n",
    "    Dspec = np.zeros((N,N))\n",
    "    cn    = np.ones(N)\n",
    "    cn[0] = 2.\n",
    "    for i in range(0,N):\n",
    "        for j in range(1,N):\n",
    "            if j > i:\n",
    "                if Dspec[i,j-1] == 0:\n",
    "                    Dspec[i,j] = 2 * j / cn[i]\n",
    "    \n",
    "    #La matrice de dérivation double dans l'espace physique\n",
    "    A       = np.dot(Dspec,Dspec)\n",
    "    B       = np.dot(spph,A)\n",
    "    ddxphys = np.dot(B,phsp)\n",
    "    return phsp, spph, Dspec, ddxphys\n",
    "\n",
    "chebyderiv(N)"
   ]
  },
  {
   "cell_type": "code",
   "execution_count": null,
   "metadata": {},
   "outputs": [],
   "source": []
  }
 ],
 "metadata": {
  "kernelspec": {
   "display_name": "Python 3",
   "language": "python",
   "name": "python3"
  },
  "language_info": {
   "codemirror_mode": {
    "name": "ipython",
    "version": 2
   },
   "file_extension": ".py",
   "mimetype": "text/x-python",
   "name": "python",
   "nbconvert_exporter": "python",
   "pygments_lexer": "ipython2",
   "version": "2.7.17"
  }
 },
 "nbformat": 4,
 "nbformat_minor": 2
}
