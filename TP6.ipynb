{
 "cells": [
  {
   "cell_type": "markdown",
   "metadata": {},
   "source": [
    "# MU4MEF04 –Méthodes Numériques pour les écoulements incompressibles- S1\n",
    "## TP6 Opérateur de Stokes\n",
    "### Master SPI – MSH\n",
    "#### ZHOU Zixin 28609845"
   ]
  },
  {
   "cell_type": "code",
   "execution_count": 1,
   "metadata": {},
   "outputs": [],
   "source": [
    "import numpy as np\n",
    "from numpy.linalg import norm\n",
    "import matplotlib.pyplot as plt\n",
    "import scipy.sparse as sp\n",
    "import math"
   ]
  },
  {
   "cell_type": "markdown",
   "metadata": {},
   "source": [
    "#### On considère l'équation de Stokes\n",
    "$$\n",
    "\\frac{d^{2} u}{d x^{2}}+\\frac{d p}{d x}=0\n",
    "$$\n",
    "#### sur [0,1] avec les conditions aux limites\n",
    "$$\n",
    "\\begin{array}{l}\n",
    "u(0)=0 \\\\\n",
    "u(1)=1\n",
    "\\end{array}\n",
    "$$\n",
    "#### avec la condition d'incompressibilité\n",
    "$$\n",
    "\\frac{d u}{d x}=0\n",
    "$$\n",
    "### 1. Discrétiser les équations $(1)-(4)$ sur une grille de $\\mathrm{N}=50$ points en identifiant la vitesse et la pression aux mêmes points. Donner la taille de la matrice globale M. Montrer que M peut se mettre sous la forme d'une matrice par blocs\n",
    "$$\n",
    "M=[A B ; C D]\n",
    "$$\n",
    "### Identifier chaque opérateur $\\mathrm{A}, \\mathrm{B}, \\mathrm{C}, \\mathrm{D}$\n"
   ]
  },
  {
   "cell_type": "code",
   "execution_count": 2,
   "metadata": {},
   "outputs": [
    {
     "name": "stdout",
     "output_type": "stream",
     "text": [
      "Opérateur A [[ 1.000e+00  0.000e+00  0.000e+00 ...  0.000e+00  0.000e+00  0.000e+00]\n",
      " [ 2.401e+03 -4.802e+03  2.401e+03 ...  0.000e+00  0.000e+00  0.000e+00]\n",
      " [ 0.000e+00  2.401e+03 -4.802e+03 ...  0.000e+00  0.000e+00  0.000e+00]\n",
      " ...\n",
      " [ 0.000e+00  0.000e+00  0.000e+00 ... -4.802e+03  2.401e+03  0.000e+00]\n",
      " [ 0.000e+00  0.000e+00  0.000e+00 ...  2.401e+03 -4.802e+03  2.401e+03]\n",
      " [ 0.000e+00  0.000e+00  0.000e+00 ...  0.000e+00  0.000e+00  1.000e+00]]\n",
      "Opérateur B [[  0.    0.    0.  ...   0.    0.    0. ]\n",
      " [-24.5   0.   24.5 ...   0.    0.    0. ]\n",
      " [  0.  -24.5   0.  ...   0.    0.    0. ]\n",
      " ...\n",
      " [  0.    0.    0.  ...   0.   24.5   0. ]\n",
      " [  0.    0.    0.  ... -24.5   0.   24.5]\n",
      " [  0.    0.    0.  ...   0.    0.    0. ]]\n",
      "Opérateur C [[-49.   49.    0.  ...   0.    0.    0. ]\n",
      " [-24.5   0.   24.5 ...   0.    0.    0. ]\n",
      " [  0.  -24.5   0.  ...   0.    0.    0. ]\n",
      " ...\n",
      " [  0.    0.    0.  ...   0.   24.5   0. ]\n",
      " [  0.    0.    0.  ... -24.5   0.   24.5]\n",
      " [  0.    0.    0.  ...   0.  -49.   49. ]]\n",
      "Opérateur D [[0. 0. 0. ... 0. 0. 0.]\n",
      " [0. 0. 0. ... 0. 0. 0.]\n",
      " [0. 0. 0. ... 0. 0. 0.]\n",
      " ...\n",
      " [0. 0. 0. ... 0. 0. 0.]\n",
      " [0. 0. 0. ... 0. 0. 0.]\n",
      " [0. 0. 0. ... 0. 0. 0.]]\n",
      "Matrice M [[ 1.000e+00  0.000e+00  0.000e+00 ...  0.000e+00  0.000e+00  0.000e+00]\n",
      " [ 2.401e+03 -4.802e+03  2.401e+03 ...  0.000e+00  0.000e+00  0.000e+00]\n",
      " [ 0.000e+00  2.401e+03 -4.802e+03 ...  0.000e+00  0.000e+00  0.000e+00]\n",
      " ...\n",
      " [ 0.000e+00  0.000e+00  0.000e+00 ...  0.000e+00  0.000e+00  0.000e+00]\n",
      " [ 0.000e+00  0.000e+00  0.000e+00 ...  0.000e+00  0.000e+00  0.000e+00]\n",
      " [ 0.000e+00  0.000e+00  0.000e+00 ...  0.000e+00  0.000e+00  0.000e+00]]\n"
     ]
    }
   ],
   "source": [
    "# Maillage centré\n",
    "N = 50\n",
    "\n",
    "dx=1./ (N - 1)\n",
    "\n",
    "A = ((1./dx) ** 2.) * sp.diags([1.,-2.,1.], [-1,0,1], (N, N)).toarray() \n",
    "\n",
    "A[0,:] = np.zeros(N)\n",
    "A[N-1,:] = np.zeros(N)\n",
    "A[0,0] = 1\n",
    "A[N - 1, N - 1] = 1\n",
    "\n",
    "\n",
    "B = (1./dx/2.) * sp.diags([-1.,0,1.], [-1,0,1], (N, N)).toarray() \n",
    "B[0,:] = np.zeros(N)\n",
    "B[N-1,:] = np.zeros(N)\n",
    "\n",
    "\n",
    "C = (1./dx/2.) * sp.diags([-1.,0,1.], [-1,0,1], (N, N)).toarray() \n",
    "C[0,:] = np.zeros(N)\n",
    "C[N-1,:] = np.zeros(N)\n",
    "C[0,0] = - 1./dx\n",
    "C[0,1] = 1./dx\n",
    "C[N - 1, N - 2] = - 1./dx\n",
    "C[N - 1, N - 1] = 1./dx\n",
    "\n",
    "D = np.zeros((N,N))\n",
    "\n",
    "print u'Opérateur A',A\n",
    "print u'Opérateur B',B\n",
    "print u'Opérateur C',C\n",
    "print u'Opérateur D',D\n",
    "\n",
    "Mt = np.hstack((A,B))\n",
    "Mb = np.hstack((C,D))\n",
    "M  = np.vstack((Mt,Mb))          \n",
    "             \n",
    "print'Matrice M',M"
   ]
  },
  {
   "cell_type": "markdown",
   "metadata": {},
   "source": [
    "### 2. Effectuer la décomposition aux valeurs singulières de l'opérateur en utilisant la commande svd. et obtenir les matrices $u, D,$ et $v$ telles que $[u, D, v]=\\operatorname{svd}(M) .$ Quelle est la dimension du noyau de $\\mathrm{M} ?$ Représenter les modes associés aux valeurs singulières nulles qui constituent la base du noyau de l'opérateur et commenter.\n"
   ]
  },
  {
   "cell_type": "code",
   "execution_count": 3,
   "metadata": {},
   "outputs": [
    {
     "name": "stdout",
     "output_type": "stream",
     "text": [
      "Matrice D [9.59425172e+03 9.56504674e+03 9.51650450e+03 9.44882352e+03\n",
      " 9.36228054e+03 9.25722945e+03 9.13409974e+03 8.99339481e+03\n",
      " 8.83568979e+03 8.66162923e+03 8.47192441e+03 8.26735038e+03\n",
      " 8.04874274e+03 7.81699421e+03 7.57305089e+03 7.31790835e+03\n",
      " 7.05260749e+03 6.77823022e+03 6.49589495e+03 6.20675197e+03\n",
      " 5.91197860e+03 5.61277437e+03 5.31035595e+03 5.00595211e+03\n",
      " 4.70079858e+03 4.39613293e+03 4.09318933e+03 3.79319346e+03\n",
      " 3.49735735e+03 3.20687434e+03 2.92291407e+03 2.64661765e+03\n",
      " 2.37909286e+03 2.12140956e+03 1.87459531e+03 1.63963107e+03\n",
      " 1.41744727e+03 1.20891998e+03 1.01486746e+03 8.36046922e+02\n",
      " 6.73151677e+02 5.26808550e+02 3.97575751e+02 2.85941205e+02\n",
      " 1.92321518e+02 1.17063207e+02 6.04327745e+01 2.28153288e+01\n",
      " 3.43485870e+00 9.89737225e-01 9.85215373e-01 9.73736765e-01\n",
      " 9.73559545e-01 9.63478837e-01 9.52792302e-01 9.44968195e-01\n",
      " 9.37294141e-01 9.20813414e-01 9.02765750e-01 8.82821100e-01\n",
      " 8.61303149e-01 8.38242088e-01 8.13775343e-01 7.88002073e-01\n",
      " 7.61034972e-01 7.32987176e-01 7.03983134e-01 6.74130329e-01\n",
      " 6.43576834e-01 6.12415572e-01 5.80821372e-01 5.48868453e-01\n",
      " 5.16757239e-01 4.84541863e-01 4.52444563e-01 4.20499911e-01\n",
      " 3.88946355e-01 3.57800900e-01 3.27311239e-01 2.97479994e-01\n",
      " 2.68556104e-01 2.40532065e-01 2.13649018e-01 1.99673135e-01\n",
      " 1.87892018e-01 1.63492751e-01 1.40429693e-01 1.18909174e-01\n",
      " 9.89162310e-02 8.06248923e-02 6.40263363e-02 4.92584264e-02\n",
      " 3.63197284e-02 2.53093393e-02 1.62323661e-02 9.14966785e-03\n",
      " 4.06926955e-03 1.01797108e-03 5.36400521e-13 5.36400521e-13]\n"
     ]
    }
   ],
   "source": [
    "# Centrée\n",
    "[u_c, D_c, v_ct] = np.linalg.svd(M)\n",
    "\n",
    "v_c = v_ct.transpose()\n",
    "print 'Matrice D',D_c"
   ]
  },
  {
   "cell_type": "markdown",
   "metadata": {},
   "source": [
    "#### Ici, on trouve que il y a deux numbres (le dèrnier et avant dèrnier numbres) dans D_c est prèsque nulle(e-13). Donc la dimension du noyau de M égale 2. \n",
    "\n",
    "#### Ensuit, on va représanter le dèrnier(i=100) et avant dèrnier(i=99) colones dans V_c. Les premiers 50 numbres concernent u et les restes concernent p."
   ]
  },
  {
   "cell_type": "code",
   "execution_count": 4,
   "metadata": {},
   "outputs": [
    {
     "data": {
      "text/plain": [
       "<function matplotlib.pyplot.show>"
      ]
     },
     "execution_count": 4,
     "metadata": {},
     "output_type": "execute_result"
    },
    {
     "data": {
      "image/png": "[encoded data removed]",
      "text/plain": [
       "<Figure size 432x288 with 1 Axes>"
      ]
     },
     "metadata": {
      "needs_background": "light"
     },
     "output_type": "display_data"
    },
    {
     "data": {
      "image/png": "[encoded data removed]",
      "text/plain": [
       "<Figure size 432x288 with 1 Axes>"
      ]
     },
     "metadata": {
      "needs_background": "light"
     },
     "output_type": "display_data"
    }
   ],
   "source": [
    "x=np.linspace(0, 2 * N - 1, 2 * N)\n",
    "\n",
    "# Mode pour u\n",
    "plt.figure()\n",
    "plt.xlabel(\"N\")\n",
    "plt.ylabel(\"u\")\n",
    "plt.axis([-1,50,-0.5,0.5])\n",
    "plt.grid()\n",
    "plt.plot(x[0:49], v_c[0:49,99], label=u\"prémière mode\")\n",
    "plt.plot(x[0:49], v_c[0:49,98], label=u\"deuxième mode\")\n",
    "plt.title(\"Les deux modes pour u\")\n",
    "plt.legend() \n",
    "plt.show\n",
    "\n",
    "# Mode pour p\n",
    "plt.figure()\n",
    "plt.xlabel(\"N\")\n",
    "plt.ylabel(\"p\")\n",
    "plt.grid()\n",
    "plt.plot(x[50:99], v_c[50:99,99], label=u\"prémière mode\")\n",
    "plt.plot(x[50:99], v_c[50:99,98], label=u\"deuxième mode\")\n",
    "plt.title(\"Les deux modes pour p\")\n",
    "plt.legend() \n",
    "plt.show"
   ]
  },
  {
   "cell_type": "markdown",
   "metadata": {},
   "source": [
    "#### Pour u, on trouve qu'il y a une seul mode, le mode constant: u = 0.\n",
    "#### Pour p, on trouve qu'il y a deux modes, le mode constant, et le mode parasite: $p _{i,j} = (-1)^{i+j}$. \n",
    "#### Les résultats sont cohérents avec nous avons trouvé dans le cours.\n",
    "\n",
    "#### Ici dans le graphe, les deux courbes correspondent les combinaisons linéaires des deux modes:$ p_{i,j} = \\lambda p_{constant} + \\beta (-1)^{i+j}$ où $ \\lambda $ et $ \\beta $ sont deux constantes.\n",
    "\n"
   ]
  },
  {
   "cell_type": "markdown",
   "metadata": {},
   "source": [
    "### 3. Discrétiser le problème en utilisant deux grilles distinctes pour la vitesse et la pression comme vu dans le cours. Quelle est la dimension du noyau du nouvel opérateur M? Représenter les modes du noyau de l'opérateur et conclure."
   ]
  },
  {
   "cell_type": "code",
   "execution_count": 5,
   "metadata": {},
   "outputs": [
    {
     "name": "stdout",
     "output_type": "stream",
     "text": [
      "Opérateur A [[ 1.000e+00  0.000e+00  0.000e+00 ...  0.000e+00  0.000e+00  0.000e+00]\n",
      " [ 2.401e+03 -4.802e+03  2.401e+03 ...  0.000e+00  0.000e+00  0.000e+00]\n",
      " [ 0.000e+00  2.401e+03 -4.802e+03 ...  0.000e+00  0.000e+00  0.000e+00]\n",
      " ...\n",
      " [ 0.000e+00  0.000e+00  0.000e+00 ... -4.802e+03  2.401e+03  0.000e+00]\n",
      " [ 0.000e+00  0.000e+00  0.000e+00 ...  2.401e+03 -4.802e+03  2.401e+03]\n",
      " [ 0.000e+00  0.000e+00  0.000e+00 ...  0.000e+00  0.000e+00  1.000e+00]]\n",
      "Opérateur B [[  0.   0.   0. ...   0.   0.   0.]\n",
      " [-49.  49.   0. ...   0.   0.   0.]\n",
      " [  0. -49.  49. ...   0.   0.   0.]\n",
      " ...\n",
      " [  0.   0.   0. ... -49.  49.   0.]\n",
      " [  0.   0.   0. ...   0. -49.  49.]\n",
      " [  0.   0.   0. ...   0.   0.   0.]]\n",
      "Opérateur C [[-49.  49.   0. ...   0.   0.   0.]\n",
      " [  0. -49.  49. ...   0.   0.   0.]\n",
      " [  0.   0. -49. ...   0.   0.   0.]\n",
      " ...\n",
      " [  0.   0.   0. ...  49.   0.   0.]\n",
      " [  0.   0.   0. ... -49.  49.   0.]\n",
      " [  0.   0.   0. ...   0. -49.  49.]]\n",
      "Opérateur D [[0. 0. 0. ... 0. 0. 0.]\n",
      " [0. 0. 0. ... 0. 0. 0.]\n",
      " [0. 0. 0. ... 0. 0. 0.]\n",
      " ...\n",
      " [0. 0. 0. ... 0. 0. 0.]\n",
      " [0. 0. 0. ... 0. 0. 0.]\n",
      " [0. 0. 0. ... 0. 0. 0.]]\n",
      "Matrice M [[ 1.000e+00  0.000e+00  0.000e+00 ...  0.000e+00  0.000e+00  0.000e+00]\n",
      " [ 2.401e+03 -4.802e+03  2.401e+03 ...  0.000e+00  0.000e+00  0.000e+00]\n",
      " [ 0.000e+00  2.401e+03 -4.802e+03 ...  0.000e+00  0.000e+00  0.000e+00]\n",
      " ...\n",
      " [ 0.000e+00  0.000e+00  0.000e+00 ...  0.000e+00  0.000e+00  0.000e+00]\n",
      " [ 0.000e+00  0.000e+00  0.000e+00 ...  0.000e+00  0.000e+00  0.000e+00]\n",
      " [ 0.000e+00  0.000e+00  0.000e+00 ...  0.000e+00  0.000e+00  0.000e+00]]\n"
     ]
    }
   ],
   "source": [
    "# Maillage décentré\n",
    "N = 50\n",
    "\n",
    "dx=1./ (N - 1)\n",
    "\n",
    "A = ((1./dx) ** 2.) * sp.diags([1.,-2.,1.], [-1,0,1], (N, N)).toarray() \n",
    "\n",
    "A[0,:] = np.zeros(N)\n",
    "A[N-1,:] = np.zeros(N)\n",
    "A[0,0] = 1\n",
    "A[N - 1, N - 1] = 1\n",
    "\n",
    "\n",
    "B = (1./dx) * sp.diags([-1.,1.], [-1,0], (N, N - 1)).toarray() \n",
    "B[0,:] = np.zeros(N-1)\n",
    "B[N-1,:] = np.zeros(N-1)\n",
    "\n",
    "\n",
    "C = (1./dx) * sp.diags([-1.,1.], [0,1], (N - 1, N)).toarray() \n",
    "\n",
    "D = np.zeros((N-1,N-1))\n",
    "\n",
    "print u'Opérateur A',A\n",
    "print u'Opérateur B',B\n",
    "print u'Opérateur C',C\n",
    "print u'Opérateur D',D\n",
    "             \n",
    "             \n",
    "Mt = np.hstack((A,B))\n",
    "Mb = np.hstack((C,D))\n",
    "M  = np.vstack((Mt,Mb))         \n",
    "\n",
    "print'Matrice M',M"
   ]
  },
  {
   "cell_type": "code",
   "execution_count": 6,
   "metadata": {},
   "outputs": [
    {
     "name": "stdout",
     "output_type": "stream",
     "text": [
      "Matrice D [9.59525056e+03 9.56604242e+03 9.51749492e+03 9.44980660e+03\n",
      " 9.36325424e+03 9.25819176e+03 9.13504872e+03 8.99432853e+03\n",
      " 8.83660642e+03 8.66252700e+03 8.47280162e+03 8.26820542e+03\n",
      " 8.04957410e+03 7.81780045e+03 7.57383070e+03 7.31866051e+03\n",
      " 7.05333090e+03 6.77892390e+03 6.49655804e+03 6.20738372e+03\n",
      " 5.91257842e+03 5.61334177e+03 5.31089058e+03 5.00645376e+03\n",
      " 4.70126718e+03 4.39656852e+03 4.09359210e+03 3.79356373e+03\n",
      " 3.49769557e+03 3.20718109e+03 2.92319007e+03 2.64686373e+03\n",
      " 2.37930996e+03 2.12159876e+03 1.87475778e+03 1.63976811e+03\n",
      " 1.41756025e+03 1.20901040e+03 1.01493688e+03 8.36097001e+02\n",
      " 6.73184144e+02 5.26825206e+02 3.97578462e+02 2.85931897e+02\n",
      " 1.92302181e+02 1.17035919e+02 6.03997521e+01 2.27808596e+01\n",
      " 3.39875904e+00 9.99895791e-01 9.99895470e-01 9.99894930e-01\n",
      " 9.99894170e-01 9.99893178e-01 9.99891954e-01 9.99890476e-01\n",
      " 9.99888748e-01 9.99886729e-01 9.99884436e-01 9.99881801e-01\n",
      " 9.99878856e-01 9.99875501e-01 9.99871787e-01 9.99867569e-01\n",
      " 9.99862924e-01 9.99857648e-01 9.99851855e-01 9.99845252e-01\n",
      " 9.99838008e-01 9.99829704e-01 9.99820587e-01 9.99810053e-01\n",
      " 9.99798459e-01 9.99784926e-01 9.99769970e-01 9.99752291e-01\n",
      " 9.99732643e-01 9.99709051e-01 9.99682632e-01 9.99650289e-01\n",
      " 9.99613708e-01 9.99567827e-01 9.99515258e-01 9.99447257e-01\n",
      " 9.99367994e-01 9.99261226e-01 9.99133854e-01 9.98952525e-01\n",
      " 9.98729027e-01 9.98384377e-01 9.97938468e-01 9.97158657e-01\n",
      " 9.96067739e-01 9.93672126e-01 9.89816158e-01 9.75247347e-01\n",
      " 9.45807006e-01 1.99660462e-01 1.75184874e-15]\n"
     ]
    }
   ],
   "source": [
    "# Décentrée\n",
    "[u_d, D_d, v_dt] = np.linalg.svd(M)\n",
    "\n",
    "v_d = v_dt.transpose()\n",
    "\n",
    "print 'Matrice D',D_d"
   ]
  },
  {
   "cell_type": "markdown",
   "metadata": {},
   "source": [
    "#### Ici, on trouve que il y a une seul numbre (le dèrnier) dans D_d est prèsque nulle(e-15). Donc la dimension du noyau de M égale 1. \n",
    "\n",
    "#### Ensuit, on va représanter le dèrnier colone(i=99) dans V_d. Les premiers 50 numbres concernent u et les restes concernent p.¶"
   ]
  },
  {
   "cell_type": "code",
   "execution_count": 7,
   "metadata": {},
   "outputs": [
    {
     "data": {
      "text/plain": [
       "<function matplotlib.pyplot.show>"
      ]
     },
     "execution_count": 7,
     "metadata": {},
     "output_type": "execute_result"
    },
    {
     "data": {
      "image/png": "[encoded data removed]",
      "text/plain": [
       "<Figure size 432x288 with 1 Axes>"
      ]
     },
     "metadata": {
      "needs_background": "light"
     },
     "output_type": "display_data"
    },
    {
     "data": {
      "image/png": "[encoded data removed]",
      "text/plain": [
       "<Figure size 432x288 with 1 Axes>"
      ]
     },
     "metadata": {
      "needs_background": "light"
     },
     "output_type": "display_data"
    }
   ],
   "source": [
    "x=np.linspace(0, 2 * N - 2, 2 * N - 1)\n",
    "\n",
    "# Mode pour u\n",
    "plt.figure()\n",
    "plt.xlabel(\"N\")\n",
    "plt.ylabel(\"u\")\n",
    "plt.axis([-1,50,-0.5,0.5])\n",
    "plt.grid()\n",
    "plt.plot(x[0:49], v_d[0:49,98])\n",
    "plt.title(\"Le mode pour u\")\n",
    "plt.legend() \n",
    "plt.show\n",
    "\n",
    "# Mode pour p\n",
    "plt.figure()\n",
    "plt.xlabel(\"N\")\n",
    "plt.ylabel(\"p\")\n",
    "plt.axis([48,100,0.1,0.2])\n",
    "plt.grid()\n",
    "plt.plot(x[50:98], v_d[50:98,98])\n",
    "plt.title(\"Le mode pour p\")\n",
    "plt.legend() \n",
    "plt.show"
   ]
  },
  {
   "cell_type": "markdown",
   "metadata": {},
   "source": [
    "#### Dans ce cas, il n'y pas de mode parasite.\n",
    "#### Pour u, on trouve qu'il y a une seul mode : le mode constant u = 0.\n",
    "#### Pour p, on trouve qu'il y a une seul mode : le mode constant p = 0.14285714.\n"
   ]
  },
  {
   "cell_type": "code",
   "execution_count": null,
   "metadata": {},
   "outputs": [],
   "source": []
  }
 ],
 "metadata": {
  "kernelspec": {
   "display_name": "Python 3",
   "language": "python",
   "name": "python3"
  },
  "language_info": {
   "codemirror_mode": {
    "name": "ipython",
    "version": 2
   },
   "file_extension": ".py",
   "mimetype": "text/x-python",
   "name": "python",
   "nbconvert_exporter": "python",
   "pygments_lexer": "ipython2",
   "version": "2.7.17"
  }
 },
 "nbformat": 4,
 "nbformat_minor": 2
}
